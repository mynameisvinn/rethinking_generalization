{
  "nbformat": 4,
  "nbformat_minor": 0,
  "metadata": {
    "colab": {
      "name": "Redbull Classifier",
      "provenance": []
    },
    "kernelspec": {
      "name": "python3",
      "display_name": "Python 3"
    },
    "language_info": {
      "name": "python"
    },
    "accelerator": "GPU"
  },
  "cells": [
    {
      "cell_type": "code",
      "metadata": {
        "colab": {
          "base_uri": "https://localhost:8080/"
        },
        "id": "WsisJekEUUpW",
        "outputId": "75003c79-1bc7-4d21-8ea9-c47651737fe3"
      },
      "source": [
        "! ls "
      ],
      "execution_count": 2,
      "outputs": [
        {
          "output_type": "stream",
          "text": [
            "__MACOSX  random  random.zip  sample_data\n"
          ],
          "name": "stdout"
        }
      ]
    },
    {
      "cell_type": "code",
      "metadata": {
        "id": "Do8K9G8fG_pD"
      },
      "source": [
        "import torch\n",
        "import torch.nn as nn\n",
        "import torch.optim as optim\n",
        "from torch.optim import lr_scheduler\n",
        "import numpy as np\n",
        "import torchvision\n",
        "from torchvision import datasets, models, transforms\n",
        "import matplotlib.pyplot as plt\n",
        "import time\n",
        "import os\n",
        "import copy"
      ],
      "execution_count": 3,
      "outputs": []
    },
    {
      "cell_type": "code",
      "metadata": {
        "colab": {
          "base_uri": "https://localhost:8080/"
        },
        "id": "jjTVgLxCHEI9",
        "outputId": "c8112900-6b50-4d7e-cfb3-648d659c1172"
      },
      "source": [
        "# Data augmentation and normalization for training\n",
        "# Just normalization for validation\n",
        "data_transforms = {\n",
        "    'train': transforms.Compose([\n",
        "        transforms.Resize(50),\n",
        "        transforms.CenterCrop(224),\n",
        "        transforms.RandomHorizontalFlip(),\n",
        "        transforms.ToTensor(),\n",
        "        transforms.Normalize([0.485, 0.456, 0.406], [0.229, 0.224, 0.225])\n",
        "    ]),\n",
        "    'val': transforms.Compose([\n",
        "        transforms.Resize(50),\n",
        "        transforms.CenterCrop(224),\n",
        "        transforms.ToTensor(),\n",
        "        transforms.Normalize([0.485, 0.456, 0.406], [0.229, 0.224, 0.225])\n",
        "    ]),\n",
        "}\n",
        "\n",
        "data_dir = 'random/'\n",
        "image_datasets = {x: datasets.ImageFolder(os.path.join(data_dir, x),\n",
        "                                          data_transforms[x])\n",
        "                  for x in ['train', 'val']}\n",
        "dataloaders = {x: torch.utils.data.DataLoader(image_datasets[x], batch_size=4,\n",
        "                                             shuffle=True, num_workers=4)\n",
        "              for x in ['train', 'val']}\n",
        "dataset_sizes = {x: len(image_datasets[x]) for x in ['train', 'val']}\n",
        "class_names = image_datasets['train'].classes\n",
        "\n",
        "device = torch.device(\"cuda:0\" if torch.cuda.is_available() else \"cpu\")"
      ],
      "execution_count": 5,
      "outputs": [
        {
          "output_type": "stream",
          "text": [
            "/usr/local/lib/python3.7/dist-packages/torch/utils/data/dataloader.py:481: UserWarning: This DataLoader will create 4 worker processes in total. Our suggested max number of worker in current system is 2, which is smaller than what this DataLoader is going to create. Please be aware that excessive worker creation might get DataLoader running slow or even freeze, lower the worker number to avoid potential slowness/freeze if necessary.\n",
            "  cpuset_checked))\n"
          ],
          "name": "stderr"
        }
      ]
    },
    {
      "cell_type": "code",
      "metadata": {
        "colab": {
          "base_uri": "https://localhost:8080/",
          "height": 186
        },
        "id": "346WHCIdL8cZ",
        "outputId": "ee034bb9-d361-4f5e-8895-73de0cd4cde7"
      },
      "source": [
        "\n",
        "def imshow(inp, title=None):\n",
        "    \"\"\"Imshow for Tensor.\"\"\"\n",
        "    inp = inp.numpy().transpose((1, 2, 0))\n",
        "    mean = np.array([0.485, 0.456, 0.406])\n",
        "    std = np.array([0.229, 0.224, 0.225])\n",
        "    inp = std * inp + mean\n",
        "    inp = np.clip(inp, 0, 1)\n",
        "    plt.imshow(inp)\n",
        "    if title is not None:\n",
        "        plt.title(title)\n",
        "    plt.pause(0.001)  # pause a bit so that plots are updated\n",
        "\n",
        "\n",
        "# Get a batch of training data\n",
        "inputs, classes = next(iter(dataloaders['val']))\n",
        "\n",
        "# Make a grid from batch\n",
        "out = torchvision.utils.make_grid(inputs)\n",
        "\n",
        "imshow(out, title=[class_names[x] for x in classes])\n"
      ],
      "execution_count": 6,
      "outputs": [
        {
          "output_type": "stream",
          "text": [
            "/usr/local/lib/python3.7/dist-packages/torch/utils/data/dataloader.py:481: UserWarning: This DataLoader will create 4 worker processes in total. Our suggested max number of worker in current system is 2, which is smaller than what this DataLoader is going to create. Please be aware that excessive worker creation might get DataLoader running slow or even freeze, lower the worker number to avoid potential slowness/freeze if necessary.\n",
            "  cpuset_checked))\n"
          ],
          "name": "stderr"
        },
        {
          "output_type": "display_data",
          "data": {
            "image/png": "[encoded data removed]",
            "text/plain": [
              "<Figure size 432x288 with 1 Axes>"
            ]
          },
          "metadata": {
            "tags": [],
            "needs_background": "light"
          }
        }
      ]
    },
    {
      "cell_type": "code",
      "metadata": {
        "id": "ouwoTgM1HGBs"
      },
      "source": [
        "def train_model(model, criterion, optimizer, scheduler, num_epochs=25):\n",
        "    train_acc = []\n",
        "    val_acc = []\n",
        "    since = time.time()\n",
        "\n",
        "    best_acc = 0.0\n",
        "\n",
        "    for epoch in range(num_epochs):\n",
        "        print('Epoch {}/{}'.format(epoch, num_epochs - 1))\n",
        "        print('-' * 10)\n",
        "\n",
        "        # Each epoch has a training and validation phase\n",
        "        for phase in ['train', 'val']:\n",
        "            if phase == 'train':\n",
        "                model.train()  # Set model to training mode\n",
        "            else:\n",
        "                model.eval()   # Set model to evaluate mode\n",
        "\n",
        "            running_loss = 0.0\n",
        "            running_corrects = 0\n",
        "\n",
        "            # Iterate over data.\n",
        "            for inputs, labels in dataloaders[phase]:\n",
        "                inputs = inputs.to(device)\n",
        "                labels = labels.to(device)\n",
        "\n",
        "                # zero the parameter gradients\n",
        "                optimizer.zero_grad()\n",
        "\n",
        "                # forward\n",
        "                # track history if only in train\n",
        "                with torch.set_grad_enabled(phase == 'train'):\n",
        "                    outputs = model(inputs)\n",
        "                    _, preds = torch.max(outputs, 1)\n",
        "                    loss = criterion(outputs, labels)\n",
        "\n",
        "                    # backward + optimize only if in training phase\n",
        "                    if phase == 'train':\n",
        "                        loss.backward()\n",
        "                        optimizer.step()\n",
        "\n",
        "                # statistics\n",
        "                running_loss += loss.item() * inputs.size(0)\n",
        "                running_corrects += torch.sum(preds == labels.data)\n",
        "            if phase == 'train':\n",
        "                scheduler.step()\n",
        "\n",
        "            epoch_loss = running_loss / dataset_sizes[phase]\n",
        "            epoch_acc = running_corrects.double() / dataset_sizes[phase]\n",
        "            if phase == 'val':\n",
        "              val_acc.append(epoch_acc)\n",
        "            if phase == 'train':\n",
        "              train_acc.append(epoch_acc)\n",
        "\n",
        "\n",
        "            print('{} Loss: {:.4f} Acc: {:.4f}'.format(\n",
        "                phase, epoch_loss, epoch_acc))\n",
        "\n",
        "\n",
        "        print()\n",
        "\n",
        "    time_elapsed = time.time() - since\n",
        "    print('Training complete in {:.0f}m {:.0f}s'.format(\n",
        "        time_elapsed // 60, time_elapsed % 60))\n",
        "    print('Best val Acc: {:4f}'.format(best_acc))\n",
        "\n",
        "    return val_acc, train_acc"
      ],
      "execution_count": 15,
      "outputs": []
    },
    {
      "cell_type": "code",
      "metadata": {
        "id": "8wGz3iRtHHMx"
      },
      "source": [
        "model_ft = models.resnet18(pretrained=True)\n",
        "num_ftrs = model_ft.fc.in_features\n",
        "# Here the size of each output sample is set to 2.\n",
        "# Alternatively, it can be generalized to nn.Linear(num_ftrs, len(class_names)).\n",
        "model_ft.fc = nn.Linear(num_ftrs, 6)\n",
        "\n",
        "model_ft = model_ft.to(device)\n",
        "\n",
        "criterion = nn.CrossEntropyLoss()\n",
        "\n",
        "# Observe that all parameters are being optimized\n",
        "optimizer_ft = optim.SGD(model_ft.parameters(), lr=0.001, momentum=0.9)\n",
        "\n",
        "# Decay LR by a factor of 0.1 every 7 epochs\n",
        "exp_lr_scheduler = lr_scheduler.StepLR(optimizer_ft, step_size=7, gamma=0.1)"
      ],
      "execution_count": 16,
      "outputs": []
    },
    {
      "cell_type": "code",
      "metadata": {
        "colab": {
          "base_uri": "https://localhost:8080/"
        },
        "id": "Eg0eugVsHIdy",
        "outputId": "6afec062-4268-479c-d863-c02abc4a0cb9"
      },
      "source": [
        "val_acc, train_acc = train_model(model_ft, criterion, optimizer_ft, exp_lr_scheduler,\n",
        "                       num_epochs=50)"
      ],
      "execution_count": null,
      "outputs": [
        {
          "output_type": "stream",
          "text": [
            "Epoch 0/49\n",
            "----------\n"
          ],
          "name": "stdout"
        },
        {
          "output_type": "stream",
          "text": [
            "/usr/local/lib/python3.7/dist-packages/torch/utils/data/dataloader.py:481: UserWarning: This DataLoader will create 4 worker processes in total. Our suggested max number of worker in current system is 2, which is smaller than what this DataLoader is going to create. Please be aware that excessive worker creation might get DataLoader running slow or even freeze, lower the worker number to avoid potential slowness/freeze if necessary.\n",
            "  cpuset_checked))\n"
          ],
          "name": "stderr"
        },
        {
          "output_type": "stream",
          "text": [
            "train Loss: 1.5079 Acc: 0.4440\n",
            "val Loss: 1.5573 Acc: 0.3726\n",
            "\n",
            "Epoch 1/49\n",
            "----------\n",
            "train Loss: 1.2758 Acc: 0.4664\n",
            "val Loss: 2.6456 Acc: 0.2890\n",
            "\n",
            "Epoch 2/49\n",
            "----------\n",
            "train Loss: 0.9168 Acc: 0.6754\n",
            "val Loss: 1.6754 Acc: 0.3954\n",
            "\n",
            "Epoch 3/49\n",
            "----------\n",
            "train Loss: 0.7628 Acc: 0.6940\n",
            "val Loss: 1.6798 Acc: 0.3726\n",
            "\n",
            "Epoch 4/49\n",
            "----------\n",
            "train Loss: 0.7332 Acc: 0.7351\n",
            "val Loss: 1.6348 Acc: 0.4144\n",
            "\n",
            "Epoch 5/49\n",
            "----------\n",
            "train Loss: 0.6470 Acc: 0.7910\n",
            "val Loss: 1.6916 Acc: 0.3802\n",
            "\n",
            "Epoch 6/49\n",
            "----------\n",
            "train Loss: 0.5729 Acc: 0.8134\n",
            "val Loss: 1.8346 Acc: 0.3574\n",
            "\n",
            "Epoch 7/49\n",
            "----------\n",
            "train Loss: 0.5070 Acc: 0.8545\n",
            "val Loss: 1.7623 Acc: 0.3612\n",
            "\n",
            "Epoch 8/49\n",
            "----------\n",
            "train Loss: 0.4806 Acc: 0.8806\n",
            "val Loss: 1.7177 Acc: 0.3764\n",
            "\n",
            "Epoch 9/49\n",
            "----------\n",
            "train Loss: 0.4745 Acc: 0.8396\n",
            "val Loss: 1.7340 Acc: 0.3726\n",
            "\n",
            "Epoch 10/49\n",
            "----------\n",
            "train Loss: 0.4991 Acc: 0.8582\n",
            "val Loss: 1.6421 Acc: 0.3764\n",
            "\n",
            "Epoch 11/49\n",
            "----------\n",
            "train Loss: 0.5241 Acc: 0.8396\n",
            "val Loss: 1.8767 Acc: 0.3460\n",
            "\n",
            "Epoch 12/49\n",
            "----------\n",
            "train Loss: 0.5005 Acc: 0.8619\n",
            "val Loss: 1.7440 Acc: 0.3726\n",
            "\n",
            "Epoch 13/49\n",
            "----------\n",
            "train Loss: 0.4496 Acc: 0.8731\n",
            "val Loss: 1.7136 Acc: 0.3916\n",
            "\n",
            "Epoch 14/49\n",
            "----------\n",
            "train Loss: 0.4504 Acc: 0.8694\n",
            "val Loss: 1.7334 Acc: 0.3840\n",
            "\n",
            "Epoch 15/49\n",
            "----------\n",
            "train Loss: 0.4217 Acc: 0.8582\n",
            "val Loss: 1.9281 Acc: 0.3536\n",
            "\n",
            "Epoch 16/49\n",
            "----------\n",
            "train Loss: 0.4719 Acc: 0.8731\n",
            "val Loss: 1.7209 Acc: 0.3916\n",
            "\n",
            "Epoch 17/49\n",
            "----------\n",
            "train Loss: 0.4259 Acc: 0.8918\n",
            "val Loss: 1.7478 Acc: 0.3688\n",
            "\n",
            "Epoch 18/49\n",
            "----------\n",
            "train Loss: 0.4340 Acc: 0.8806\n",
            "val Loss: 1.7239 Acc: 0.3688\n",
            "\n",
            "Epoch 19/49\n",
            "----------\n",
            "train Loss: 0.4470 Acc: 0.8619\n",
            "val Loss: 1.8512 Acc: 0.3612\n",
            "\n",
            "Epoch 20/49\n",
            "----------\n",
            "train Loss: 0.4102 Acc: 0.8843\n",
            "val Loss: 1.8473 Acc: 0.3574\n",
            "\n",
            "Epoch 21/49\n",
            "----------\n",
            "train Loss: 0.4936 Acc: 0.8209\n",
            "val Loss: 1.7788 Acc: 0.3688\n",
            "\n",
            "Epoch 22/49\n",
            "----------\n",
            "train Loss: 0.4570 Acc: 0.8582\n",
            "val Loss: 1.7997 Acc: 0.3726\n",
            "\n",
            "Epoch 23/49\n",
            "----------\n",
            "train Loss: 0.4101 Acc: 0.8843\n",
            "val Loss: 1.6888 Acc: 0.3878\n",
            "\n",
            "Epoch 24/49\n",
            "----------\n",
            "train Loss: 0.4773 Acc: 0.8507\n",
            "val Loss: 1.7638 Acc: 0.3802\n",
            "\n",
            "Epoch 25/49\n",
            "----------\n",
            "train Loss: 0.4950 Acc: 0.8507\n",
            "val Loss: 1.8479 Acc: 0.3840\n",
            "\n",
            "Epoch 26/49\n",
            "----------\n",
            "train Loss: 0.4449 Acc: 0.8881\n",
            "val Loss: 1.6680 Acc: 0.3878\n",
            "\n",
            "Epoch 27/49\n",
            "----------\n",
            "train Loss: 0.4059 Acc: 0.9104\n",
            "val Loss: 1.7546 Acc: 0.3726\n",
            "\n",
            "Epoch 28/49\n",
            "----------\n",
            "train Loss: 0.4722 Acc: 0.8545\n",
            "val Loss: 1.7585 Acc: 0.3878\n",
            "\n",
            "Epoch 29/49\n",
            "----------\n",
            "train Loss: 0.4746 Acc: 0.8470\n",
            "val Loss: 1.7024 Acc: 0.3916\n",
            "\n",
            "Epoch 30/49\n",
            "----------\n",
            "train Loss: 0.4310 Acc: 0.8769\n",
            "val Loss: 1.7869 Acc: 0.3726\n",
            "\n",
            "Epoch 31/49\n",
            "----------\n",
            "train Loss: 0.4562 Acc: 0.8881\n",
            "val Loss: 1.6847 Acc: 0.3840\n",
            "\n",
            "Epoch 32/49\n",
            "----------\n",
            "train Loss: 0.4350 Acc: 0.8619\n",
            "val Loss: 1.7110 Acc: 0.3802\n",
            "\n",
            "Epoch 33/49\n",
            "----------\n",
            "train Loss: 0.4391 Acc: 0.8731\n",
            "val Loss: 1.8648 Acc: 0.3650\n",
            "\n",
            "Epoch 34/49\n",
            "----------\n",
            "train Loss: 0.4736 Acc: 0.8433\n",
            "val Loss: 1.7431 Acc: 0.3840\n",
            "\n",
            "Epoch 35/49\n",
            "----------\n",
            "train Loss: 0.4854 Acc: 0.8806\n",
            "val Loss: 1.7162 Acc: 0.3650\n",
            "\n",
            "Epoch 36/49\n",
            "----------\n",
            "train Loss: 0.4903 Acc: 0.8470\n",
            "val Loss: 1.7202 Acc: 0.3878\n",
            "\n",
            "Epoch 37/49\n",
            "----------\n",
            "train Loss: 0.3822 Acc: 0.8918\n",
            "val Loss: 1.7683 Acc: 0.3840\n",
            "\n",
            "Epoch 38/49\n",
            "----------\n",
            "train Loss: 0.4368 Acc: 0.8731\n",
            "val Loss: 1.7960 Acc: 0.3726\n",
            "\n",
            "Epoch 39/49\n",
            "----------\n"
          ],
          "name": "stdout"
        }
      ]
    },
    {
      "cell_type": "code",
      "metadata": {
        "id": "UyhE9jlMHKqy"
      },
      "source": [
        "v = [val.item() for val in val_acc]\n",
        "t = [val.item() for val in train_acc]"
      ],
      "execution_count": null,
      "outputs": []
    },
    {
      "cell_type": "code",
      "metadata": {
        "id": "V8RvY4LXIZLR"
      },
      "source": [
        "plt.style.use('ggplot')\n",
        "plt.plot(v)\n",
        "plt.plot(t)\n",
        "plt.ylim(0, 1.1)\n",
        "plt.ylabel('Accuracy')\n",
        "plt.xlabel('Epochs')\n",
        "plt.title('Redbull 6-SKU Resnet Classifer with Randomly Shuffled Labels')"
      ],
      "execution_count": null,
      "outputs": []
    },
    {
      "cell_type": "code",
      "metadata": {
        "id": "oDsEzEG6JIvE"
      },
      "source": [
        ""
      ],
      "execution_count": null,
      "outputs": []
    }
  ]
}